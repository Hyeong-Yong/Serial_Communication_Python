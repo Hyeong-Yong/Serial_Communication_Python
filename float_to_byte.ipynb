{
 "cells": [
  {
   "cell_type": "code",
   "execution_count": 5,
   "metadata": {},
   "outputs": [
    {
     "name": "stdout",
     "output_type": "stream",
     "text": [
      "Type of value:  <class 'float'>\n",
      "Data type after converting np.float32:  <class 'numpy.ndarray'>\n",
      "Data type after converting np.float32 to bytes:  <class 'bytes'> , and data length : 4\n",
      "<class 'int'>\n",
      "225 248 87 72\n"
     ]
    }
   ],
   "source": [
    "import struct\n",
    "import numpy as np\n",
    "\n",
    "value = 221155.52\n",
    "print(\"Type of value: \", type(value))\n",
    "\n",
    "value = np.array(value, dtype = np.float32)\n",
    "print(\"Data type after converting np.float32: \", type(value))\n",
    "\n",
    "value = bytes(value)\n",
    "print(\"Data type after converting np.float32 to bytes: \", type(value), \", and data length :\", len(value))\n",
    "\n",
    "# b\"0x000000ff\" 비트 연산자 bytes 타입 \n",
    "# print(type(value), type(b\"0x000000ff\"))\n",
    "\n",
    "byte_1= value[0]\n",
    "byte_2= value[1]\n",
    "byte_3= value[2]\n",
    "byte_4= value[3]\n",
    "\n",
    "print(type(byte_1))\n",
    "print(byte_1, byte_2, byte_3, byte_4 )\n",
    "\n",
    "\n",
    "\n",
    "#or\n",
    "\n",
    "#byte_1= value     & b\"0x000000ff\"\n",
    "#byte_2= value>>8  & b\"0x000000ff\"\n",
    "#byte_3= value>>16 & b\"0x000000ff\"\n",
    "#byte_4= value>>24 & b\"0x000000ff\"\n"
   ]
  },
  {
   "cell_type": "code",
   "execution_count": 12,
   "metadata": {},
   "outputs": [
    {
     "name": "stdout",
     "output_type": "stream",
     "text": [
      "Type of value:  <class 'int'>\n",
      "12\n",
      "0\n",
      "0\n",
      "0\n"
     ]
    }
   ],
   "source": [
    "import struct\n",
    "import numpy as np\n",
    "\n",
    "value = 12\n",
    "print(\"Type of value: \", type(value))\n",
    "\n",
    "# b\"0x000000ff\" 비트 연산자 bytes 타입 \n",
    "# print(type(value), type(b\"0x000000ff\"))\n",
    "\n",
    "byte_1= value     & 0x000000ff\n",
    "byte_2= value>>8  & 0x000000ff\n",
    "byte_3= value>>16 & 0x000000ff\n",
    "byte_4= value>>24 & 0x000000ff\n",
    "\n",
    "print(byte_1)\n",
    "print(byte_2)\n",
    "print(byte_3)\n",
    "print(byte_4)\n"
   ]
  },
  {
   "cell_type": "code",
   "execution_count": 43,
   "metadata": {},
   "outputs": [
    {
     "name": "stdout",
     "output_type": "stream",
     "text": [
      "251010105.3\n",
      "b'251010105.3'\n",
      "11\n"
     ]
    }
   ],
   "source": [
    "value=251010105.3\n",
    "\n",
    "str_val = str(value)\n",
    "print(str_val)\n",
    "\n",
    "print(str_val.encode())\n",
    "print(len(str_val.encode()))"
   ]
  },
  {
   "cell_type": "code",
   "execution_count": null,
   "metadata": {},
   "outputs": [],
   "source": []
  }
 ],
 "metadata": {
  "kernelspec": {
   "display_name": "base",
   "language": "python",
   "name": "python3"
  },
  "language_info": {
   "codemirror_mode": {
    "name": "ipython",
    "version": 3
   },
   "file_extension": ".py",
   "mimetype": "text/x-python",
   "name": "python",
   "nbconvert_exporter": "python",
   "pygments_lexer": "ipython3",
   "version": "3.10.9"
  },
  "orig_nbformat": 4
 },
 "nbformat": 4,
 "nbformat_minor": 2
}
